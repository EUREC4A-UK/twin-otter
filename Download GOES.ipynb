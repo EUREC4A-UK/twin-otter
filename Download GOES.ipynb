{
 "cells": [
  {
   "cell_type": "code",
   "execution_count": 2,
   "metadata": {},
   "outputs": [
    {
     "name": "stdout",
     "output_type": "stream",
     "text": [
      "GOES-East_ABI_Band2_Red_Visible_1km_2020-02-02_11-50.tiff\n",
      "GOES-East_ABI_Band2_Red_Visible_1km_2020-02-02_12-00.tiff\n",
      "GOES-East_ABI_Band2_Red_Visible_1km_2020-02-02_12-10.tiff\n",
      "GOES-East_ABI_Band2_Red_Visible_1km_2020-02-02_12-20.tiff\n",
      "GOES-East_ABI_Band2_Red_Visible_1km_2020-02-02_12-30.tiff\n",
      "GOES-East_ABI_Band2_Red_Visible_1km_2020-02-02_12-40.tiff\n",
      "GOES-East_ABI_Band2_Red_Visible_1km_2020-02-02_12-50.tiff\n",
      "GOES-East_ABI_Band2_Red_Visible_1km_2020-02-02_13-00.tiff\n",
      "GOES-East_ABI_Band2_Red_Visible_1km_2020-02-02_13-10.tiff\n",
      "GOES-East_ABI_Band2_Red_Visible_1km_2020-02-02_13-20.tiff\n",
      "GOES-East_ABI_Band2_Red_Visible_1km_2020-02-02_13-30.tiff\n",
      "GOES-East_ABI_Band2_Red_Visible_1km_2020-02-02_13-40.tiff\n",
      "GOES-East_ABI_Band2_Red_Visible_1km_2020-02-02_13-50.tiff\n",
      "GOES-East_ABI_Band2_Red_Visible_1km_2020-02-02_14-00.tiff\n",
      "GOES-East_ABI_Band2_Red_Visible_1km_2020-02-02_14-10.tiff\n",
      "GOES-East_ABI_Band2_Red_Visible_1km_2020-02-02_14-20.tiff\n",
      "GOES-East_ABI_Band2_Red_Visible_1km_2020-02-02_14-30.tiff\n",
      "GOES-East_ABI_Band2_Red_Visible_1km_2020-02-02_14-40.tiff\n",
      "GOES-East_ABI_Band2_Red_Visible_1km_2020-02-02_14-50.tiff\n",
      "GOES-East_ABI_Band2_Red_Visible_1km_2020-02-02_15-00.tiff\n",
      "GOES-East_ABI_Band2_Red_Visible_1km_2020-02-02_15-10.tiff\n",
      "GOES-East_ABI_Band2_Red_Visible_1km_2020-02-02_15-20.tiff\n",
      "GOES-East_ABI_Band2_Red_Visible_1km_2020-02-02_15-30.tiff\n",
      "GOES-East_ABI_Band2_Red_Visible_1km_2020-02-02_15-40.tiff\n"
     ]
    }
   ],
   "source": [
    "from worldview_dl import download_image\n",
    "import datetime\n",
    "import pytz\n",
    "\n",
    "resolution = datetime.timedelta(minutes=10)\n",
    "take_off = datetime.datetime(year=2020, month=2, day=2, hour=11, minute=50, tzinfo=pytz.utc)\n",
    "landing = datetime.datetime(year=2020, month=2, day=2, hour=15, minute=40, tzinfo=pytz.utc)\n",
    "\n",
    "\n",
    "time = take_off\n",
    "while time <= landing:\n",
    "    filename = 'GOES-East_ABI_Band2_Red_Visible_1km_{:04d}-{:02d}-{:02d}_{:02d}-{:02d}.tiff'.format(time.year, time.month, time.day, time.hour, time.minute)\n",
    "    print(filename)\n",
    "    download_image(\n",
    "        fn=filename,\n",
    "        time=time,\n",
    "        bbox=[10.,-60.,15.,-50.],\n",
    "        layers=['GOES-East_ABI_Band2_Red_Visible_1km', 'Reference_Labels'],\n",
    "        image_format=\"tiff\",\n",
    "        resolution=0.01,\n",
    "    )\n",
    "    time += resolution"
   ]
  },
  {
   "cell_type": "code",
   "execution_count": null,
   "metadata": {},
   "outputs": [],
   "source": []
  }
 ],
 "metadata": {
  "kernelspec": {
   "display_name": "Python 3",
   "language": "python",
   "name": "python3"
  },
  "language_info": {
   "codemirror_mode": {
    "name": "ipython",
    "version": 3
   },
   "file_extension": ".py",
   "mimetype": "text/x-python",
   "name": "python",
   "nbconvert_exporter": "python",
   "pygments_lexer": "ipython3",
   "version": "3.8.2"
  }
 },
 "nbformat": 4,
 "nbformat_minor": 4
}
